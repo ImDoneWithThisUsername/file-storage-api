{
 "cells": [
  {
   "cell_type": "code",
   "execution_count": 2,
   "metadata": {},
   "outputs": [],
   "source": [
    "import random"
   ]
  },
  {
   "cell_type": "code",
   "execution_count": 3,
   "metadata": {},
   "outputs": [
    {
     "data": {
      "text/plain": [
       "6"
      ]
     },
     "execution_count": 3,
     "metadata": {},
     "output_type": "execute_result"
    }
   ],
   "source": [
    "def gcd(a, b):\n",
    "    if a == 0:\n",
    "        return b\n",
    "    return gcd(b%a, a)\n",
    "\n",
    "gcd(12,18)"
   ]
  },
  {
   "cell_type": "code",
   "execution_count": 4,
   "metadata": {},
   "outputs": [
    {
     "data": {
      "text/plain": [
       "491749"
      ]
     },
     "execution_count": 4,
     "metadata": {},
     "output_type": "execute_result"
    }
   ],
   "source": [
    "p = 617\n",
    "q = 797\n",
    "n = p*q\n",
    "n"
   ]
  },
  {
   "cell_type": "code",
   "execution_count": 5,
   "metadata": {},
   "outputs": [
    {
     "data": {
      "text/plain": [
       "490336"
      ]
     },
     "execution_count": 5,
     "metadata": {},
     "output_type": "execute_result"
    }
   ],
   "source": [
    "z = (p-1)*(q-1)\n",
    "z"
   ]
  },
  {
   "cell_type": "code",
   "execution_count": 6,
   "metadata": {},
   "outputs": [
    {
     "data": {
      "text/plain": [
       "(245093, None)"
      ]
     },
     "execution_count": 6,
     "metadata": {},
     "output_type": "execute_result"
    }
   ],
   "source": [
    "e, d = None, None\n",
    "while True:\n",
    "    i = random.randint(2, z - 1)\n",
    "    if gcd(i, z) == 1:\n",
    "        e = i\n",
    "        break\n",
    "# for i in (range(2, z)):\n",
    "#     if gcd(i, z) == 1:\n",
    "#         e = i\n",
    "#         break\n",
    "e, d"
   ]
  },
  {
   "cell_type": "code",
   "execution_count": 7,
   "metadata": {},
   "outputs": [
    {
     "data": {
      "text/plain": [
       "(245093, 349773)"
      ]
     },
     "execution_count": 7,
     "metadata": {},
     "output_type": "execute_result"
    }
   ],
   "source": [
    "for i in range(2, n):\n",
    "    if (e*i - 1) % z == 0:\n",
    "        d = i\n",
    "        break\n",
    "e, d"
   ]
  },
  {
   "cell_type": "code",
   "execution_count": 8,
   "metadata": {},
   "outputs": [],
   "source": [
    "def power_mod(m, e, n):\n",
    " \n",
    "    # Initialize result\n",
    "    res = 1\n",
    " \n",
    "    while (e > 0):\n",
    " \n",
    "        # If y is odd, multiply x with result\n",
    "        if ((e & 1) != 0):\n",
    "            res = res * m\n",
    " \n",
    "        # y must be even now\n",
    "        e = e >> 1  # y = y/2\n",
    "        m = m * m  # Change x to x^2\n",
    " \n",
    "    return res % n\n",
    "plain = 9999\n",
    "cipher = power_mod(plain,e, n)"
   ]
  },
  {
   "cell_type": "code",
   "execution_count": 9,
   "metadata": {},
   "outputs": [
    {
     "data": {
      "text/plain": [
       "True"
      ]
     },
     "execution_count": 9,
     "metadata": {},
     "output_type": "execute_result"
    }
   ],
   "source": [
    "plain == power_mod(cipher,d, n)"
   ]
  },
  {
   "cell_type": "code",
   "execution_count": 10,
   "metadata": {},
   "outputs": [],
   "source": [
    "first_primes_list = [2, 3, 5, 7, 11, 13, 17, 19, 23, 29,\n",
    "                     31, 37, 41, 43, 47, 53, 59, 61, 67,\n",
    "                     71, 73, 79, 83, 89, 97, 101, 103,\n",
    "                     107, 109, 113, 127, 131, 137, 139,\n",
    "                     149, 151, 157, 163, 167, 173, 179,\n",
    "                     181, 191, 193, 197, 199, 211, 223,\n",
    "                     227, 229, 233, 239, 241, 251, 257,\n",
    "                     263, 269, 271, 277, 281, 283, 293,\n",
    "                     307, 311, 313, 317, 331, 337, 347, 349]\n"
   ]
  },
  {
   "cell_type": "code",
   "execution_count": 11,
   "metadata": {},
   "outputs": [],
   "source": [
    "def nBitRandom(n):\n",
    "   \n",
    "    # Returns a random number\n",
    "    # between 2**(n-1)+1 and 2**n-1'''\n",
    "    return(random.randrange(2**(n-1)+1, 2**n-1))\n"
   ]
  },
  {
   "cell_type": "code",
   "execution_count": 12,
   "metadata": {},
   "outputs": [],
   "source": [
    "def getLowLevelPrime(n):\n",
    "    '''Generate a prime candidate divisible\n",
    "      by first primes'''\n",
    "   \n",
    "    # Repeat until a number satisfying\n",
    "    # the test isn't found\n",
    "    while True: \n",
    "   \n",
    "        # Obtain a random number\n",
    "        prime_candidate = nBitRandom(n) \n",
    "   \n",
    "        for divisor in first_primes_list: \n",
    "            if prime_candidate % divisor == 0 and divisor**2 <= prime_candidate:\n",
    "                break\n",
    "            # If no divisor found, return value\n",
    "            else: return prime_candidate\n"
   ]
  },
  {
   "cell_type": "code",
   "execution_count": 13,
   "metadata": {},
   "outputs": [],
   "source": [
    "def isMillerRabinPassed(miller_rabin_candidate):\n",
    "\t'''Run 20 iterations of Rabin Miller Primality test'''\n",
    "\n",
    "\tmaxDivisionsByTwo = 0\n",
    "\tevenComponent = miller_rabin_candidate-1\n",
    "\n",
    "\twhile evenComponent % 2 == 0:\n",
    "\t\tevenComponent >>= 1\n",
    "\t\tmaxDivisionsByTwo += 1\n",
    "\tassert(2**maxDivisionsByTwo * evenComponent == miller_rabin_candidate-1)\n",
    "\n",
    "\tdef trialComposite(round_tester):\n",
    "\t\tif pow(round_tester, evenComponent,\n",
    "\t\t\tmiller_rabin_candidate) == 1:\n",
    "\t\t\treturn False\n",
    "\t\tfor i in range(maxDivisionsByTwo):\n",
    "\t\t\tif pow(round_tester, 2**i * evenComponent,\n",
    "\t\t\t\tmiller_rabin_candidate) == miller_rabin_candidate-1:\n",
    "\t\t\t\treturn False\n",
    "\t\treturn True\n",
    "\n",
    "\t# Set number of trials here\n",
    "\tnumberOfRabinTrials = 20\n",
    "\tfor i in range(numberOfRabinTrials):\n",
    "\t\tround_tester = random.randrange(2,\n",
    "\t\t\t\t\tmiller_rabin_candidate)\n",
    "\t\tif trialComposite(round_tester):\n",
    "\t\t\treturn False\n",
    "\treturn True\n"
   ]
  },
  {
   "cell_type": "code",
   "execution_count": 14,
   "metadata": {},
   "outputs": [],
   "source": [
    "def generate_prime(n: int):\n",
    "    while True:\n",
    "        prime_candidate = getLowLevelPrime(n)\n",
    "        if not isMillerRabinPassed(prime_candidate):\n",
    "            continue\n",
    "        else:\n",
    "            return prime_candidate\n"
   ]
  },
  {
   "cell_type": "code",
   "execution_count": 15,
   "metadata": {},
   "outputs": [
    {
     "data": {
      "text/plain": [
       "(37, 41)"
      ]
     },
     "execution_count": 15,
     "metadata": {},
     "output_type": "execute_result"
    }
   ],
   "source": [
    "\n",
    "p = generate_prime(6)\n",
    "q = generate_prime(6)\n",
    "p, q"
   ]
  },
  {
   "cell_type": "code",
   "execution_count": 16,
   "metadata": {},
   "outputs": [],
   "source": [
    "def generate_p_q(n:int):\n",
    "    while True:\n",
    "        p = generate_prime(n)\n",
    "        q = generate_prime(n)\n",
    "        if p != q:\n",
    "            return (p,q)"
   ]
  },
  {
   "cell_type": "code",
   "execution_count": 23,
   "metadata": {},
   "outputs": [
    {
     "data": {
      "text/plain": [
       "(29503, 26431, 34547, 34176, 193, 179)"
      ]
     },
     "execution_count": 23,
     "metadata": {},
     "output_type": "execute_result"
    }
   ],
   "source": [
    "def generate_key_pair(n: int):\n",
    "    \"\"\"\n",
    "    0 <= len(message) < 2**n\n",
    "    len(message) should be grater than 2**8 (for some safety)\n",
    "    :return: e, d, n, z, p, q\n",
    "    \"\"\"\n",
    "    p, q = generate_p_q(n/2)\n",
    "    n = p*q\n",
    "    z = (p-1)*(q-1)\n",
    "    e, d = None, None\n",
    "    # for i in (range(2, z)):\n",
    "    #     if gcd(i, z) == 1:\n",
    "    #         e = i\n",
    "    #         break\n",
    "    while True:\n",
    "        i = random.randint(2, z - 1)\n",
    "        if gcd(i, z) == 1:\n",
    "            e = i\n",
    "            break\n",
    "    for i in range(2, n):\n",
    "        if (e*i - 1) % z == 0:\n",
    "            d = i\n",
    "            break\n",
    "    return e, d, n, z, p, q\n",
    "\n",
    "e, d, n, z ,p , q = generate_key_pair(16)\n",
    "e, d, n, z ,p , q"
   ]
  },
  {
   "cell_type": "code",
   "execution_count": 24,
   "metadata": {},
   "outputs": [
    {
     "data": {
      "text/plain": [
       "True"
      ]
     },
     "execution_count": 24,
     "metadata": {},
     "output_type": "execute_result"
    }
   ],
   "source": [
    "plain = 9000\n",
    "cipher = power_mod(plain, d, n)\n",
    "plain == power_mod(cipher, e, n)"
   ]
  }
 ],
 "metadata": {
  "kernelspec": {
   "display_name": "venv",
   "language": "python",
   "name": "python3"
  },
  "language_info": {
   "codemirror_mode": {
    "name": "ipython",
    "version": 3
   },
   "file_extension": ".py",
   "mimetype": "text/x-python",
   "name": "python",
   "nbconvert_exporter": "python",
   "pygments_lexer": "ipython3",
   "version": "3.9.7"
  },
  "orig_nbformat": 4,
  "vscode": {
   "interpreter": {
    "hash": "5c5c372f87f935fb24b1b5c86a0d35301abeab861d98b490b88d2d978730882b"
   }
  }
 },
 "nbformat": 4,
 "nbformat_minor": 2
}
