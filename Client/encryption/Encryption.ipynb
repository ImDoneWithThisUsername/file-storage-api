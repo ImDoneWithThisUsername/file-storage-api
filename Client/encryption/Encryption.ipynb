{
 "cells": [
  {
   "cell_type": "code",
   "execution_count": 2,
   "metadata": {},
   "outputs": [],
   "source": [
    "plain_file_name = \"img/pic1.jpg\"\n",
    "cipher_file_name = \"cipher.jpg\"\n",
    "\n",
    "# encrypt image\n",
    "def encrypt_image(in_path:str, out_path:str, key:int):\n",
    "    # open file for reading purpose\n",
    "    fin = open(in_path, 'rb')\n",
    "    \n",
    "    # storing image data in variable \"image\"\n",
    "    image = fin.read()\n",
    "    fin.close()\n",
    "    \n",
    "    # converting image into byte array to perform decryption easily on numeric data\n",
    "    image = bytearray(image)\n",
    "\n",
    "    # performing XOR operation on each value of bytearray\n",
    "    for index, values in enumerate(image):\n",
    "        image[index] = values ^ key\n",
    "    # opening file for writing purpose\n",
    "    fin = open(out_path, 'wb')\n",
    "    \n",
    "    # writing decryption data in image\n",
    "    fin.write(image)\n",
    "    fin.close()\n",
    "encrypt_image(plain_file_name, cipher_file_name, 22)"
   ]
  },
  {
   "cell_type": "code",
   "execution_count": 2,
   "metadata": {},
   "outputs": [
    {
     "data": {
      "text/plain": [
       "27884"
      ]
     },
     "execution_count": 2,
     "metadata": {},
     "output_type": "execute_result"
    }
   ],
   "source": [
    "def hash_string( s:str,n:int = 32768) -> int:\n",
    "    res = 0\n",
    "    for c in s:\n",
    "        c = ord(c)\n",
    "        if c >= 100:\n",
    "            res = (res*1000 + c) % n\n",
    "        elif c >= 10:\n",
    "            res = (res*100 + c) % n\n",
    "        else:\n",
    "            res = (res*10 + c) % n\n",
    "    return res\n",
    "hash_string(\"test\")"
   ]
  },
  {
   "cell_type": "code",
   "execution_count": 3,
   "metadata": {},
   "outputs": [
    {
     "data": {
      "text/plain": [
       "4754"
      ]
     },
     "execution_count": 3,
     "metadata": {},
     "output_type": "execute_result"
    }
   ],
   "source": [
    "hash_string(\"minh2\")"
   ]
  },
  {
   "cell_type": "code",
   "execution_count": 7,
   "metadata": {},
   "outputs": [],
   "source": [
    "import RSA"
   ]
  },
  {
   "cell_type": "code",
   "execution_count": 8,
   "metadata": {},
   "outputs": [
    {
     "name": "stdout",
     "output_type": "stream",
     "text": [
      "7813 13357 35657 35280 181 197\n"
     ]
    },
    {
     "data": {
      "text/plain": [
       "True"
      ]
     },
     "execution_count": 8,
     "metadata": {},
     "output_type": "execute_result"
    }
   ],
   "source": [
    "e, d, n, z ,p , q = RSA.generate_key_pair(16)\n",
    "print(e, d, n, z ,p , q)\n",
    "username = \"minh\"\n",
    "hashed = hash_string(username)\n",
    "cipher = RSA.power_mod(hashed, d, n)\n",
    "hashed == RSA.power_mod(cipher, e, n)"
   ]
  },
  {
   "cell_type": "code",
   "execution_count": 9,
   "metadata": {},
   "outputs": [
    {
     "data": {
      "text/plain": [
       "17927"
      ]
     },
     "execution_count": 9,
     "metadata": {},
     "output_type": "execute_result"
    }
   ],
   "source": [
    "RSA.power_mod(hashed, d, n)"
   ]
  },
  {
   "cell_type": "code",
   "execution_count": 5,
   "metadata": {},
   "outputs": [],
   "source": [
    "from PIL import Image\n",
    "picture = Image.open(cipher_file_name)\n",
    "\n",
    "# Get the size of the image\n",
    "\n",
    "width, height = picture.size\n",
    "key = 100\n",
    "for x in range(0, width - 1):\n",
    "    for y in range(0, height - 1):\n",
    "        current_color = picture.getpixel( (x,y) )\n",
    "        ####################################################################\n",
    "        # Do your logic here and create a new (R,G,B) tuple called new_color\n",
    "        ####################################################################\n",
    "        new_color = (current_color[0]^key,current_color[1]^key,current_color[2]^key)\n",
    "        picture.putpixel( (x,y), new_color)\n",
    "picture.save(cipher_file_name)\n"
   ]
  },
  {
   "cell_type": "code",
   "execution_count": null,
   "metadata": {},
   "outputs": [],
   "source": []
  },
  {
   "cell_type": "code",
   "execution_count": 10,
   "metadata": {},
   "outputs": [
    {
     "data": {
      "text/plain": [
       "True"
      ]
     },
     "execution_count": 10,
     "metadata": {},
     "output_type": "execute_result"
    }
   ],
   "source": [
    "def validate_sig(sig, data, pub_key, n):\n",
    "    hashed = hash_string(data)\n",
    "    dec_sig = RSA.power_mod(sig, pub_key, n)\n",
    "    return hashed == dec_sig\n",
    "\n",
    "username = \"minh\"\n",
    "sig = RSA.power_mod(hash_string(username),d,n)\n",
    "validate_sig(sig=sig, data=username,pub_key=e, n=n)"
   ]
  }
 ],
 "metadata": {
  "kernelspec": {
   "display_name": "venv",
   "language": "python",
   "name": "python3"
  },
  "language_info": {
   "codemirror_mode": {
    "name": "ipython",
    "version": 3
   },
   "file_extension": ".py",
   "mimetype": "text/x-python",
   "name": "python",
   "nbconvert_exporter": "python",
   "pygments_lexer": "ipython3",
   "version": "3.9.7"
  },
  "orig_nbformat": 4,
  "vscode": {
   "interpreter": {
    "hash": "5c5c372f87f935fb24b1b5c86a0d35301abeab861d98b490b88d2d978730882b"
   }
  }
 },
 "nbformat": 4,
 "nbformat_minor": 2
}
