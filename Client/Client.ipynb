{
 "cells": [
  {
   "cell_type": "code",
   "execution_count": 1,
   "metadata": {},
   "outputs": [],
   "source": [
    "import requests\n",
    "from requests.auth import HTTPBasicAuth\n",
    "from encryption import RSA, Encryption\n",
    "import random"
   ]
  },
  {
   "cell_type": "code",
   "execution_count": 11,
   "metadata": {},
   "outputs": [],
   "source": [
    "# view all account test\n",
    "url = \"http://127.0.0.1:8000/user/register\"\n",
    "test = False\n",
    "if test:\n",
    "    response = requests.get(url=url)\n",
    "    print(response.json())"
   ]
  },
  {
   "cell_type": "code",
   "execution_count": 13,
   "metadata": {},
   "outputs": [
    {
     "data": {
      "text/plain": [
       "201"
      ]
     },
     "execution_count": 13,
     "metadata": {},
     "output_type": "execute_result"
    }
   ],
   "source": [
    "\n",
    "# register\n",
    "# params: username, password, public key\n",
    "e, d, n, z ,p , q = RSA.generate_key_pair(16)\n",
    "username = \"minh1\"\n",
    "password = \"123\"\n",
    "public_key = e\n",
    "signature = RSA.power_mod(Encryption.hash_string(username), d, n)\n",
    "obj = {\n",
    "    'username':username,\n",
    "    'password':password,\n",
    "    'public_key':public_key,\n",
    "    'signature':signature,\n",
    "    'n':n\n",
    "}\n",
    "response = requests.post(\n",
    "    url=url,\n",
    "    json=obj\n",
    "    )\n",
    "response.status_code\n"
   ]
  },
  {
   "cell_type": "code",
   "execution_count": 7,
   "metadata": {},
   "outputs": [
    {
     "data": {
      "text/plain": [
       "201"
      ]
     },
     "execution_count": 7,
     "metadata": {},
     "output_type": "execute_result"
    }
   ],
   "source": [
    "# register\n",
    "# params: username, password, public key\n",
    "e, d, n, z ,p , q = RSA.generate_key_pair(16)\n",
    "username = input(\"Username: \")\n",
    "password = input(\"Password: \")\n",
    "public_key = e\n",
    "signature = RSA.power_mod(Encryption.hash_string(username), d, n)\n",
    "obj = {\n",
    "    'username':username,\n",
    "    'password':password,\n",
    "    'public_key':public_key,\n",
    "    'signature':signature,\n",
    "    'n':n\n",
    "}\n",
    "response = requests.post(\n",
    "    url=url,\n",
    "    json=obj\n",
    "    )\n",
    "response.status_code\n"
   ]
  },
  {
   "cell_type": "code",
   "execution_count": 30,
   "metadata": {},
   "outputs": [
    {
     "name": "stdout",
     "output_type": "stream",
     "text": [
      "[{'id': 9, 'image': '/media/user_images/10/pic1.jpg', 'user': 11, 'encrypted_session_key': 123}, {'id': 10, 'image': '/media/user_images/10/pic1.jpg', 'user': 11, 'encrypted_session_key': 123}, {'id': 11, 'image': '/media/user_images/10/pic1.jpg', 'user': 11, 'encrypted_session_key': 123}, {'id': 14, 'image': '/media/user_images/13/pic1.jpg', 'user': 11, 'encrypted_session_key': 0}, {'id': 15, 'image': '/media/user_images/13/pic1.jpg', 'user': 11, 'encrypted_session_key': 0}, {'id': 16, 'image': '/media/user_images/13/pic1.jpg', 'user': 11, 'encrypted_session_key': 7039}]\n"
     ]
    }
   ],
   "source": [
    "# get all images of user\n",
    "url = \"http://127.0.0.1:8000/user/images\"\n",
    "username = \"minh1\"\n",
    "password = \"123\"\n",
    "response = requests.get(\n",
    "    url=url,\n",
    "    auth=HTTPBasicAuth(username=username,password=password))\n",
    "print(response.json())\n"
   ]
  },
  {
   "cell_type": "code",
   "execution_count": 15,
   "metadata": {},
   "outputs": [
    {
     "name": "stdout",
     "output_type": "stream",
     "text": [
      "<Response [201]>\n"
     ]
    }
   ],
   "source": [
    "# upload images\n",
    "# params: username, password, image\n",
    "# path_to_file = input(\"Path to image: \")\n",
    "path_to_file = \"encryption/img/pic1.jpg\"\n",
    "filename = path_to_file.split('/')[-1]\n",
    "\n",
    "key = random.randint(0, 256)\n",
    "encrypted_session_key = RSA.power_mod(key, e, n)\n",
    "\n",
    "Encryption.encrypt_image(path_to_file, filename,key)\n",
    "\n",
    "files = {'image': open(filename,'rb')}\n",
    "data = {'encrypted_session_key':encrypted_session_key}\n",
    "\n",
    "response = requests.post(\n",
    "    url=url,\n",
    "    auth=HTTPBasicAuth(username=username,password=password),\n",
    "    files=files,\n",
    "    data=data\n",
    "    )\n",
    "print(response)"
   ]
  },
  {
   "cell_type": "code",
   "execution_count": 45,
   "metadata": {},
   "outputs": [
    {
     "name": "stdout",
     "output_type": "stream",
     "text": [
      "[{'id': 3, 'image': '/media/user_images/8/pic1.jpg', 'user': 8, 'encrypted_session_key': 20647}, {'id': 4, 'image': '/media/user_images/8/pic1_SImLxmU.jpg', 'user': 8, 'encrypted_session_key': 3244}]\n"
     ]
    }
   ],
   "source": [
    "# download image\n",
    "username = \"minh1\"\n",
    "password = \"123\"\n",
    "\n",
    "response = requests.get(\n",
    "    url=url,\n",
    "    auth=HTTPBasicAuth(username=username,password=password))\n",
    "print(response.json())\n",
    "for obj in response.json():\n",
    "    if obj['id'] == \"16\":\n",
    "        encrypted_session_key = obj['encrypted_session_key']\n",
    "        break\n",
    "response = requests.get(url=url+\"/16\", stream=True, auth=HTTPBasicAuth(username=username,password=password))\n",
    "if response.ok:\n",
    "\n",
    "    with open('downloaded.jpg', 'wb') as handle:\n",
    "\n",
    "        for block in response.iter_content(1024):\n",
    "            if not block:\n",
    "                break\n",
    "\n",
    "            handle.write(block)"
   ]
  },
  {
   "cell_type": "code",
   "execution_count": 29,
   "metadata": {},
   "outputs": [
    {
     "name": "stdout",
     "output_type": "stream",
     "text": [
      "19507\n",
      "6306\n",
      "14081\n",
      "146\n",
      "7039\n"
     ]
    }
   ],
   "source": [
    "username = \"minh3\"\n",
    "password = \"123\"\n",
    "url = \"http://127.0.0.1:8000/user/images/share\"\n",
    "payload = {\n",
    "    \"target_username\":\"minh1\",\n",
    "    \"img_id\":\"13\",\n",
    "}\n",
    "\n",
    "r = requests.get(\n",
    "    url=url,\n",
    "    params=payload,\n",
    "    auth=HTTPBasicAuth(username=username,password=password)\n",
    ")\n",
    "if r.ok:\n",
    "    data = r.json()\n",
    "    target_pub_key = int(data['target_pub_key'])\n",
    "    encrypted_session_key = int(data['encrypted_session_key'])\n",
    "    request_user_n = int(data['request_user_n'])\n",
    "    target_user_n = int(data['target_user_n'])\n",
    "    print(target_pub_key)\n",
    "    print(encrypted_session_key)\n",
    "    with open(f\"{username}_key.txt\",\"r\") as prv_key_file:\n",
    "        prv_key = int(prv_key_file.read())\n",
    "        print(prv_key)\n",
    "        session_key = RSA.power_mod(encrypted_session_key, prv_key, request_user_n)\n",
    "        print(session_key)\n",
    "    re_encrypted_key = RSA.power_mod(session_key, target_pub_key, target_user_n)\n",
    "    print(re_encrypted_key)\n",
    "    payload = {\n",
    "        \"re_encrypted_key\":re_encrypted_key,\n",
    "        \"img_id\":\"13\",\n",
    "        \"target_username\":\"minh1\",\n",
    "    }\n",
    "\n",
    "    r = requests.post(\n",
    "    url=url,\n",
    "    data=payload,\n",
    "    auth=HTTPBasicAuth(username=username,password=password)\n",
    "    )\n",
    "\n",
    "\n"
   ]
  },
  {
   "cell_type": "code",
   "execution_count": null,
   "metadata": {},
   "outputs": [],
   "source": [
    "e = 7121\n",
    "d = 14081\n"
   ]
  }
 ],
 "metadata": {
  "kernelspec": {
   "display_name": "venv",
   "language": "python",
   "name": "python3"
  },
  "language_info": {
   "codemirror_mode": {
    "name": "ipython",
    "version": 3
   },
   "file_extension": ".py",
   "mimetype": "text/x-python",
   "name": "python",
   "nbconvert_exporter": "python",
   "pygments_lexer": "ipython3",
   "version": "3.9.7"
  },
  "orig_nbformat": 4,
  "vscode": {
   "interpreter": {
    "hash": "5c5c372f87f935fb24b1b5c86a0d35301abeab861d98b490b88d2d978730882b"
   }
  }
 },
 "nbformat": 4,
 "nbformat_minor": 2
}
